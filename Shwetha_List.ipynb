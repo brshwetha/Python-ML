{
 "cells": [
  {
   "cell_type": "code",
   "execution_count": null,
   "metadata": {
    "colab": {
     "base_uri": "https://localhost:8080/",
     "height": 123
    },
    "colab_type": "code",
    "id": "gtlAv2oq9yzd",
    "outputId": "b5ce8d7f-1738-40d5-cf78-652ab0bbaaf4"
   },
   "outputs": [
    {
     "name": "stdout",
     "output_type": "stream",
     "text": [
      "Enter the numer of items in the list:4\n",
      "10\n",
      "20\n",
      "30\n",
      "40\n",
      "100\n"
     ]
    }
   ],
   "source": [
    "#Write a Python program to find the sum of all elements in a list using loop.\n",
    "#Input:- [10,20,30,40]\n",
    "#Output:- 100\n",
    "num=int(input(\"Enter the numer of items in the list:\"))\n",
    "out_lst=[]\n",
    "total=0\n",
    "for i in range(1,num+1):\n",
    "    lst_items=int(input())\n",
    "    out_lst.append(lst_items)\n",
    "    \n",
    "for j in range(num):\n",
    "   total+=out_lst[j]\n",
    "print(total)\n",
    "\n",
    "\n",
    "# lst=[10,20,30,40]\n",
    "# print(sum(lst))"
   ]
  },
  {
   "cell_type": "code",
   "execution_count": null,
   "metadata": {
    "colab": {
     "base_uri": "https://localhost:8080/",
     "height": 123
    },
    "colab_type": "code",
    "id": "gTbA8psa93Y_",
    "outputId": "1abe6da4-74d1-472c-fec8-b471e1b642b0"
   },
   "outputs": [
    {
     "name": "stdout",
     "output_type": "stream",
     "text": [
      "Number of items in the list:4\n",
      "10\n",
      "20\n",
      "30\n",
      "40\n",
      "24000000\n"
     ]
    }
   ],
   "source": [
    "#Write a Python program to find the multiplication of all elements in a list using loop.\n",
    "#Input:- [10,20,30,40]\n",
    "#Output:- 240000\n",
    "num=int(input(\"Number of items in the list:\"))\n",
    "out_lst=[]\n",
    "for i in range(1,num+1):\n",
    "  lst_items=int(input())\n",
    "  out_lst.append(lst_items)\n",
    "for j in range(num):\n",
    "  total*=out_lst[j]\n",
    "print(total)\n"
   ]
  },
  {
   "cell_type": "code",
   "execution_count": null,
   "metadata": {
    "colab": {
     "base_uri": "https://localhost:8080/",
     "height": 34
    },
    "colab_type": "code",
    "id": "XBCrEtLN94Lj",
    "outputId": "28ebb95b-4cb6-4fe0-d41b-66823480cd9b"
   },
   "outputs": [
    {
     "name": "stdout",
     "output_type": "stream",
     "text": [
      "2321\n"
     ]
    }
   ],
   "source": [
    "#Write a Python program to find the largest number from a list using loop.\n",
    "#Input:- [10,100,2321, 1,200,2]\n",
    "#Output:- 2321\n",
    "\n",
    "# lst=[10,100,2321, 1,200,2]\n",
    "# max(lst)\n",
    "lst=[10,100,2321, 1,200,2]\n",
    "largest_num=lst[0]\n",
    "for i in lst:\n",
    "  if i>largest_num:\n",
    "    largest_num=i\n",
    "print(largest_num)\n",
    "\n",
    "\n",
    "\n",
    "\n",
    "\n",
    "\n"
   ]
  },
  {
   "cell_type": "code",
   "execution_count": null,
   "metadata": {
    "colab": {
     "base_uri": "https://localhost:8080/",
     "height": 34
    },
    "colab_type": "code",
    "id": "l3paUtbH94Vw",
    "outputId": "44ef63ca-d0a3-4d47-ce81-8e1c14b4469b"
   },
   "outputs": [
    {
     "name": "stdout",
     "output_type": "stream",
     "text": [
      "1\n"
     ]
    }
   ],
   "source": [
    "#Write a Python program to find the smallest number from a list using loop.\n",
    "#Input:- [10,100,2321, 1,200,2]\n",
    "#Output:- 1\n",
    "\n",
    "# lst=[10,100,2321, 1,200,2]\n",
    "# min(lst)\n",
    "\n",
    "lst=[10,100,2321, 1,200,2]\n",
    "smallest_no=lst[0]\n",
    "for i in lst:\n",
    "  if i<smallest_no:\n",
    "    smallest_no=i\n",
    "print(smallest_no)\n",
    "\n",
    "\n",
    "\n"
   ]
  },
  {
   "cell_type": "code",
   "execution_count": null,
   "metadata": {
    "colab": {
     "base_uri": "https://localhost:8080/",
     "height": 34
    },
    "colab_type": "code",
    "id": "JTVgy5VD94cE",
    "outputId": "a2df7daa-86ad-4b2a-8f48-db34b8549c2f"
   },
   "outputs": [
    {
     "name": "stdout",
     "output_type": "stream",
     "text": [
      "2\n"
     ]
    }
   ],
   "source": [
    "#Write a Python program to count the number of strings having length more than 2 and are palindrome in a list using loop.\n",
    "#Input:- ['ab', 'abc', 'aba', 'xyz', '1991']\n",
    "#Output:- 2\n",
    "words=['ab', 'abc', 'aba', 'xyz', '1991']\n",
    "ctr = 0\n",
    "for word in words:\n",
    "    if len(word) > 1 and word[0] == word[-1]:\n",
    "     ctr += 1\n",
    "print(ctr)"
   ]
  },
  {
   "cell_type": "code",
   "execution_count": null,
   "metadata": {
    "colab": {
     "base_uri": "https://localhost:8080/",
     "height": 247
    },
    "colab_type": "code",
    "id": "xs-ZGJbJ94gr",
    "outputId": "b600c193-1dc7-4ae3-a464-9c1f978b79e2"
   },
   "outputs": [
    {
     "name": "stdout",
     "output_type": "stream",
     "text": [
      "the number of elements in the list:11\n",
      "100\n",
      "10\n",
      "1\n",
      "298\n",
      "65\n",
      "483\n",
      "49876\n",
      "2\n",
      "80\n",
      "9\n",
      "9213\n",
      "[1, 2, 9, 10, 65, 80, 100, 298, 483, 9213, 49876]\n"
     ]
    }
   ],
   "source": [
    "#Write a Python program to sort a list in ascending order using loop.\n",
    "#Input:- [100,10,1,298,65,483,49876,2,80,9,9213]\n",
    "#Output:- [1,2,9,10,65,80,100,298,483,9213,49876]\n",
    "\n",
    "# # lst= [100,10,1,298,65,483,49876,2,80,9,9213]\n",
    "# lst.sort()\n",
    "# print(lst)\n",
    "\n",
    "num=int(input('the number of elements in the list:'))\n",
    "out_lst=[]\n",
    "for i in range(1,num+1):\n",
    "  elements=int(input())\n",
    "  out_lst.append(elements)\n",
    "for i in range(num):\n",
    "  for j in range(i+1,num):\n",
    "    if(out_lst[i] > out_lst[j]):\n",
    "        temp = out_lst[i]\n",
    "        out_lst[i] = out_lst[j]\n",
    "        out_lst[j] = temp\n",
    "print(out_lst)\n",
    "\n"
   ]
  },
  {
   "cell_type": "code",
   "execution_count": null,
   "metadata": {
    "colab": {},
    "colab_type": "code",
    "id": "VhKQJizZ94kg"
   },
   "outputs": [],
   "source": [
    "#Write a Python program to get a sorted list in increasing order of last element in each tuple in a given list using loop.\n",
    "#Input:- [(5,4),(9,1),(2,3),(5,9),(7,6),(5,5)]\n",
    "#output:- [(9,1),(2,3),(5,4),(5,5),(7,6),(5,9)]\n",
    "\n",
    "\n"
   ]
  },
  {
   "cell_type": "code",
   "execution_count": null,
   "metadata": {
    "colab": {
     "base_uri": "https://localhost:8080/",
     "height": 34
    },
    "colab_type": "code",
    "id": "YJrCLYp694n_",
    "outputId": "a6ac9108-f790-4b5a-e987-ba88498bea68"
   },
   "outputs": [
    {
     "name": "stdout",
     "output_type": "stream",
     "text": [
      "[10, 1, 11, 29, 876, 768, 92]\n"
     ]
    }
   ],
   "source": [
    "#Write a Python program to remove duplicate element from a list using loop.\n",
    "#Input:- [10,1,11,1,29,876,768,10,11,1,92,29,876]\n",
    "#Output:- [10,1,11,29,876,768,92]\n",
    "\n",
    "lst=[10,1,11,1,29,876,768,10,11,1,92,29,876]\n",
    "out_lst=[]\n",
    "for i in lst:\n",
    "  if i not in out_lst:\n",
    "    out_lst.append(i)\n",
    "print(out_lst)\n"
   ]
  },
  {
   "cell_type": "code",
   "execution_count": null,
   "metadata": {
    "colab": {
     "base_uri": "https://localhost:8080/",
     "height": 52
    },
    "colab_type": "code",
    "id": "koYe4YCu94rh",
    "outputId": "97e06c4b-a4e4-4b49-9caf-5d8cc2addcec"
   },
   "outputs": [
    {
     "name": "stdout",
     "output_type": "stream",
     "text": [
      "list is empty\n",
      "list is not empty\n"
     ]
    }
   ],
   "source": [
    "#Write a Python program to check a list is empty or not?\n",
    "#Input:- []\n",
    "#Output:- List is empty\n",
    "#Input:- [10,20,30]\n",
    "#Output:- List is not empty\n",
    "\n",
    "lst=[]\n",
    "if len(lst)==0:\n",
    "  print(\"list is empty\")\n",
    "\n",
    "lst1=[10,20,30]\n",
    "if len(lst)==0:\n",
    "  print(\"list is not empty\")\n"
   ]
  },
  {
   "cell_type": "code",
   "execution_count": null,
   "metadata": {
    "colab": {
     "base_uri": "https://localhost:8080/",
     "height": 34
    },
    "colab_type": "code",
    "id": "mES1WANa94u5",
    "outputId": "80bef497-b903-4ccd-a408-16784ec7331b"
   },
   "outputs": [
    {
     "name": "stdout",
     "output_type": "stream",
     "text": [
      "[10, 10.2, (10+20j), 'Python', [10, 20], (10, 20)]\n"
     ]
    }
   ],
   "source": [
    "#Write a Python program to copy a list using loop.\n",
    "#inp_lst = [10,10.20,10+20j, 'Python', [10,20], (10,20)]\n",
    "#out_lst = [10,10.20,10+20j, 'Python', [10,20], (10,20)]\n",
    "num=[10,10.20,10+20j, 'Python', [10,20], (10,20)]\n",
    "out_lst=[]\n",
    "for i in num:\n",
    "  out_lst.append(i)\n",
    "print(out_lst)\n",
    "\n",
    "\n",
    "# num=[10,10.20,10+20j, 'Python', [10,20], (10,20)]\n",
    "# new_list=list.copy(num)\n",
    "# print(new_list)\n"
   ]
  },
  {
   "cell_type": "code",
   "execution_count": null,
   "metadata": {
    "colab": {
     "base_uri": "https://localhost:8080/",
     "height": 34
    },
    "colab_type": "code",
    "id": "CpBh31WO94yi",
    "outputId": "8926456f-50da-4bbd-9508-e60436ad75c4"
   },
   "outputs": [
    {
     "name": "stdout",
     "output_type": "stream",
     "text": [
      "['How', 'much', 'wood', 'would', 'a', 'woodchuck', 'chuck', 'if', 'could']\n"
     ]
    }
   ],
   "source": [
    "#Write a Python program to find the list of words that are longer than or equal to 4 from a given string.\n",
    "#Input:- 'How much wood would a woodchuck chuck if a woodchuck could chuck wood'\n",
    "#Output:- ['much', 'wood', 'would', 'woodchuck', 'chuck', 'could', 'could']\n",
    "#Note:- Duplicate should be avoided.\n",
    "s='How much wood would a woodchuck chuck if a woodchuck could chuck wood'\n",
    "lst=s.split(\" \")\n",
    "new_lst=[]\n",
    "for i in lst:\n",
    "  if i not in new_lst:\n",
    "    new_lst.append(i)\n",
    "# print(new_lst)\n",
    "\n",
    "\n"
   ]
  },
  {
   "cell_type": "code",
   "execution_count": null,
   "metadata": {
    "colab": {
     "base_uri": "https://localhost:8080/",
     "height": 34
    },
    "colab_type": "code",
    "id": "YVfj0fgZ9416",
    "outputId": "c48413fe-4f60-4f12-d14e-caeaca286a89"
   },
   "outputs": [
    {
     "name": "stdout",
     "output_type": "stream",
     "text": [
      "True\n"
     ]
    }
   ],
   "source": [
    "#Write a Python program which takes two list as input and returns True if they have at least 3 common elements.\n",
    "#inp_lst1 = [10,20,'Python', 10.20, 10+20j, [10,20,30], (10,20,30)]\n",
    "#inp_lst2 = [(10,20,30),1,20+3j,100.2, 10+20j, [10,20,30],'Python']\n",
    "#Output:- True\n",
    "lst1=[10,20,'Python', 10.20, 10+20j, [10,20,30], (10,20,30)]\n",
    "lst2=[(10,20,30),1,20+3j,100.2, 10+20j, [10,20,30],'Python']\n",
    "out_lst=[]\n",
    "for i in lst1:\n",
    "  if i in lst2:\n",
    "    out_lst.append(i)\n",
    "if len(out_lst)>3:\n",
    "     print(\"True\")\n",
    "\n",
    "\n",
    "\n",
    "\n"
   ]
  },
  {
   "cell_type": "code",
   "execution_count": null,
   "metadata": {
    "colab": {},
    "colab_type": "code",
    "id": "7vwc3pjR945O"
   },
   "outputs": [],
   "source": [
    "#Write a Python program to create a 4X4 2D matrix with below elements using loop and list comprehension both.\n",
    "#Output:- [[0,0,0,0],[0,1,2,3],[0,2,4,6],[0,3,6,9]]\n",
    "\n",
    "R = int(input(\"Enter the number of rows:\")) \n",
    "C = int(input(\"Enter the number of columns:\")) \n",
    "matrix = [] \n",
    "print(\"Enter the entries rowwise:\") \n",
    "for i in range(R):          \n",
    "    a =[] \n",
    "    for j in range(C):      \n",
    "         a.append(int(input())) \n",
    "    matrix.append(a) \n",
    "for i in range(R): \n",
    "    for j in range(C): \n",
    "        print(matrix[i][j], end = \" \") \n",
    "    print() \n",
    "\n",
    "\n"
   ]
  },
  {
   "cell_type": "code",
   "execution_count": null,
   "metadata": {
    "colab": {
     "base_uri": "https://localhost:8080/",
     "height": 443
    },
    "colab_type": "code",
    "id": "Pxafor84948b",
    "outputId": "77a48156-54c2-40a2-f0f5-fbc35df9eb31"
   },
   "outputs": [
    {
     "name": "stdout",
     "output_type": "stream",
     "text": [
      "Enter the number of rows:3\n",
      "Enter the number of columns:6\n",
      "Enter the entries rowwise:\n",
      "0\n",
      "0\n",
      "0\n",
      "0\n",
      "0\n",
      "0\n",
      "0\n",
      "0\n",
      "0\n",
      "0\n",
      "0\n",
      "0\n",
      "0\n",
      "0\n",
      "0\n",
      "0\n",
      "0\n",
      "0\n",
      "0 0 0 0 0 0 \n",
      "0 0 0 0 0 0 \n",
      "0 0 0 0 0 0 \n"
     ]
    }
   ],
   "source": [
    "#Write a Python program to create a 3X4X6 3D matrix wiith below elements using loop\n",
    "#Output:- \n",
    "# [\n",
    "#     [[0,0,0,0,0,0],[0,0,0,0,0,0],[0,0,0,0,0,0],[0,0,0,0,0,0]],\n",
    "#     [[0,0,0,0,0,0],[1,1,1,1,1,1],[2,2,2,2,2,2],[3,3,3,3,3,3]],\n",
    "#     [[0,0,0,0,0,0],[2,2,2,2,2,2],[4,4,4,4,4,4],[6,6,6,6,6,6]]\n",
    "# ]\n",
    "\n",
    "R = int(input(\"Enter the number of rows:\")) \n",
    "C = int(input(\"Enter the number of columns:\")) \n",
    "matrix = [] \n",
    "print(\"Enter the entries rowwise:\") \n",
    "for i in range(R):          \n",
    "    a =[] \n",
    "    for j in range(C):      \n",
    "         a.append(int(input())) \n",
    "    matrix.append(a) \n",
    "for i in range(R): \n",
    "    for j in range(C): \n",
    "        print(matrix[i][j], end = \" \") \n",
    "    print() \n"
   ]
  },
  {
   "cell_type": "code",
   "execution_count": null,
   "metadata": {
    "colab": {
     "base_uri": "https://localhost:8080/",
     "height": 230
    },
    "colab_type": "code",
    "id": "lYNv8gk794_p",
    "outputId": "9f39fca8-74fe-480a-b99a-d95717a82d20"
   },
   "outputs": [
    {
     "name": "stdout",
     "output_type": "stream",
     "text": [
      "Number of items in the list:10\n",
      "10\n",
      "21\n",
      "22\n",
      "98\n",
      "87\n",
      "45\n",
      "33\n",
      "1\n",
      "2\n",
      "100\n",
      "[21, 87, 45, 33, 1]\n"
     ]
    }
   ],
   "source": [
    "#Write a Python program which takes a list of numbers as input and prints a new list after removing even numbers from it.\n",
    "#Input:- [10,21,22,98,87,45,33,1,2,100]\n",
    "#Output:- [21,87,45,33,1]\n",
    "\n",
    "num=int(input(\"Number of items in the list:\"))\n",
    "out_lst=[]\n",
    "for i in range(1,num+1):\n",
    "  value=int(input())\n",
    "  if (value%2!=0):\n",
    "      out_lst.append(value)\n",
    "print(out_lst)\n",
    "\n",
    "\n",
    "\n"
   ]
  },
  {
   "cell_type": "code",
   "execution_count": null,
   "metadata": {
    "colab": {
     "base_uri": "https://localhost:8080/",
     "height": 34
    },
    "colab_type": "code",
    "id": "3BaCb-rB95B7",
    "outputId": "bcb8cb02-dd00-4b0c-a309-5c32675d51ed"
   },
   "outputs": [
    {
     "name": "stdout",
     "output_type": "stream",
     "text": [
      "[100, 45, 1, 22, 21, 98, 2, 10, 87, 33]\n"
     ]
    }
   ],
   "source": [
    "#Write a Python program which takes a list from the user and prints it after reshuffling the elements of the list.\n",
    "#Input:- [10,21,22,98,87,45,33,1,2,100]\n",
    "#Output:- [1,87,21,10,33,2,100,45,98,22] (It may be any randon list but with same elements)\n",
    "import random\n",
    "lst=[10,21,22,98,87,45,33,1,2,100]\n",
    "random.shuffle(lst)\n",
    "print(lst)\n"
   ]
  }
 ],
 "metadata": {
  "colab": {
   "collapsed_sections": [],
   "name": "Shwetha_List_Assignment.ipynb",
   "provenance": []
  },
  "kernelspec": {
   "display_name": "Python 3",
   "language": "python",
   "name": "python3"
  },
  "language_info": {
   "codemirror_mode": {
    "name": "ipython",
    "version": 3
   },
   "file_extension": ".py",
   "mimetype": "text/x-python",
   "name": "python",
   "nbconvert_exporter": "python",
   "pygments_lexer": "ipython3",
   "version": "3.7.6"
  }
 },
 "nbformat": 4,
 "nbformat_minor": 1
}
