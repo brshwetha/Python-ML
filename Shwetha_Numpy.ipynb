{
 "cells": [
  {
   "cell_type": "markdown",
   "metadata": {},
   "source": [
    "## NUMPY\n",
    "- create a numpy array of 5 zeros.\n",
    "    - check datatype, itemsize and shape of above\n",
    "- create a numpy array of ones of shape (5,4)\n",
    "- create a matrix of shape 4,5 with numbers from 1-20\n",
    "- multiply all elements of above array by 10\n",
    "- print odd elements from array\n",
    "- replace all even elements by their negative\n",
    "  \n",
    "  \n",
    "  \n",
    "- create a linearly spaced matrix M1 of size 4x4 having values in range 1-16\n",
    "- create a transpose of above matrix call it M2\n",
    "- find sum of above matrix M3 = (M1 + M2)\n",
    "- Find Transpose of M3, Call it MT1. Check if M3 == MT1\n",
    "- find diffrence of M4 = (M1 - M2)\n",
    "- Find Transpose of M4, Call it MT2. Check if M4 == MT2. Also check if M4 == -MT2\n",
    "  \n",
    "\n",
    "- create a matrix (3x4) R1 of random numbers between 10-40\n",
    "- find min and max column wise\n",
    "- replace the last column with sum of all the columns\n",
    "\n",
    "\n",
    "- create a matrix (3x4) R1 of random numbers between 10-40\n",
    "- replace all even elements with nan in R1\n",
    "- count number of nan in R1\n",
    "\n",
    "\n",
    "\n",
    "- check output of this code  \n",
    "`a1 = np.arange(1,10).reshape(3,3)\n",
    "a2 = np.arange(11,20).reshape(3,3)\n",
    "a3 = np.append(a1,a2)\n",
    "print(a3)\n",
    "a3 = np.append(a1,a2, axis = 0)\n",
    "print(a3)\n",
    "a3 = np.append(a1,a2, axis = 1)\n",
    "print(a3)\n",
    "`\n"
   ]
  },
  {
   "cell_type": "code",
   "execution_count": 8,
   "metadata": {},
   "outputs": [],
   "source": [
    "#create a numpy array of 5 zeros.\n",
    "import numpy as np\n",
    "a=np.zeros(5)"
   ]
  },
  {
   "cell_type": "code",
   "execution_count": 2,
   "metadata": {},
   "outputs": [
    {
     "name": "stdout",
     "output_type": "stream",
     "text": [
      "float64\n",
      "8\n",
      "(5,)\n",
      "1\n"
     ]
    }
   ],
   "source": [
    "#check datatype, itemsize and shape of above\n",
    "a=np.zeros(5)\n",
    "print(a.dtype)\n",
    "print(a.itemsize)\n",
    "print(a.shape)\n",
    "print(a.ndim)"
   ]
  },
  {
   "cell_type": "code",
   "execution_count": 4,
   "metadata": {},
   "outputs": [
    {
     "name": "stdout",
     "output_type": "stream",
     "text": [
      "[[1. 1. 1. 1.]\n",
      " [1. 1. 1. 1.]\n",
      " [1. 1. 1. 1.]\n",
      " [1. 1. 1. 1.]\n",
      " [1. 1. 1. 1.]]\n"
     ]
    }
   ],
   "source": [
    "#create a numpy array of ones of shape (5,4)\n",
    "\n",
    "x=np.ones((5,4))\n",
    "print(x)"
   ]
  },
  {
   "cell_type": "code",
   "execution_count": 5,
   "metadata": {},
   "outputs": [
    {
     "name": "stdout",
     "output_type": "stream",
     "text": [
      "(4, 5)\n",
      "[[ 1  2  3  4  5]\n",
      " [ 6  7  8  9 10]\n",
      " [11 12 13 14 15]\n",
      " [16 17 18 19 20]]\n"
     ]
    }
   ],
   "source": [
    "#create a matrix of shape 4,5 with numbers from 1-20\n",
    "x=np.array([[1,2,3,4,5],[6,7,8,9,10],[11,12,13,14,15],[16,17,18,19,20]])\n",
    "print(x.shape)\n",
    "print(x)"
   ]
  },
  {
   "cell_type": "code",
   "execution_count": 16,
   "metadata": {},
   "outputs": [
    {
     "name": "stdout",
     "output_type": "stream",
     "text": [
      "[[ 10  20  30  40  50]\n",
      " [ 60  70  80  90 100]\n",
      " [110 120 130 140 150]\n",
      " [160 170 180 190 200]]\n"
     ]
    }
   ],
   "source": [
    "#multiply all elements of above array by 10\n",
    "\n",
    "y=(x*10)\n",
    "print(y)"
   ]
  },
  {
   "cell_type": "code",
   "execution_count": 18,
   "metadata": {},
   "outputs": [
    {
     "name": "stdout",
     "output_type": "stream",
     "text": [
      "[ 1  3  5  7  9 11 13 15 17 19]\n",
      "[ 10  30  50  70  90 110 130 150 170 190]\n"
     ]
    }
   ],
   "source": [
    "#print odd elements from array\n",
    "i=(x%2!=0)\n",
    "print(x[i])\n",
    "print(y[i])"
   ]
  },
  {
   "cell_type": "code",
   "execution_count": 17,
   "metadata": {},
   "outputs": [
    {
     "name": "stdout",
     "output_type": "stream",
     "text": [
      "[[ -2  -3  -4  -5  -6]\n",
      " [ -7  -8  -9 -10 -11]\n",
      " [-12 -13 -14 -15 -16]\n",
      " [-17 -18 -19 -20 -21]]\n",
      "[[ -11  -21  -31  -41  -51]\n",
      " [ -61  -71  -81  -91 -101]\n",
      " [-111 -121 -131 -141 -151]\n",
      " [-161 -171 -181 -191 -201]]\n"
     ]
    }
   ],
   "source": [
    "#replace all even elements by their negative\n",
    "print(~x)\n",
    "print(~y)"
   ]
  },
  {
   "cell_type": "code",
   "execution_count": 21,
   "metadata": {},
   "outputs": [
    {
     "name": "stdout",
     "output_type": "stream",
     "text": [
      "[[ 1  2  3  4]\n",
      " [ 5  6  7  8]\n",
      " [ 9 10 11 12]\n",
      " [13 14 15 16]]\n"
     ]
    }
   ],
   "source": [
    "# create a linearly spaced matrix M1 of size 4x4 having values in range 1-16\n",
    "m1=np.arange(1,17).reshape(4,4)\n",
    "print(m1)"
   ]
  },
  {
   "cell_type": "code",
   "execution_count": 51,
   "metadata": {},
   "outputs": [
    {
     "name": "stdout",
     "output_type": "stream",
     "text": [
      "[[ 1  5  9 13]\n",
      " [ 2  6 10 14]\n",
      " [ 3  7 11 15]\n",
      " [ 4  8 12 16]]\n"
     ]
    }
   ],
   "source": [
    "# create a transpose of above matrix call it M2\n",
    "m2=(m1.T)\n",
    "print(m2)"
   ]
  },
  {
   "cell_type": "code",
   "execution_count": 52,
   "metadata": {},
   "outputs": [
    {
     "name": "stdout",
     "output_type": "stream",
     "text": [
      "[[ 1  2  3  4]\n",
      " [ 5  6  7  8]\n",
      " [ 9 10 11 12]\n",
      " [13 14 15 16]]\n",
      "\n",
      "[[ 1  5  9 13]\n",
      " [ 2  6 10 14]\n",
      " [ 3  7 11 15]\n",
      " [ 4  8 12 16]]\n",
      "\n",
      "[[29 37 45 53]\n",
      " [30 38 46 54]\n",
      " [31 39 47 55]\n",
      " [32 40 48 56]]\n"
     ]
    }
   ],
   "source": [
    "# find sum of above matrix M3 = (M1 + M2)\n",
    "print(m1)\n",
    "print()\n",
    "print(m2)\n",
    "print()\n",
    "m3=(sum(m1,m2))\n",
    "print(m3)"
   ]
  },
  {
   "cell_type": "code",
   "execution_count": 53,
   "metadata": {},
   "outputs": [
    {
     "name": "stdout",
     "output_type": "stream",
     "text": [
      "[[29 30 31 32]\n",
      " [37 38 39 40]\n",
      " [45 46 47 48]\n",
      " [53 54 55 56]]\n"
     ]
    }
   ],
   "source": [
    "# Find Transpose of M3, Call it MT1. Check if M3 == MT1\n",
    "mt1=(m3.T)\n",
    "print(mt1)"
   ]
  },
  {
   "cell_type": "code",
   "execution_count": 42,
   "metadata": {},
   "outputs": [
    {
     "name": "stdout",
     "output_type": "stream",
     "text": [
      "[[29 38 47 56]\n",
      " [30 39 48 57]\n",
      " [31 40 49 58]\n",
      " [32 41 50 59]\n",
      " [33 42 51 60]]\n",
      "\n",
      "[[29 30 31 32 33]\n",
      " [38 39 40 41 42]\n",
      " [47 48 49 50 51]\n",
      " [56 57 58 59 60]]\n",
      "\n",
      "False\n"
     ]
    },
    {
     "name": "stderr",
     "output_type": "stream",
     "text": [
      "C:\\ProgramData\\Anaconda3\\lib\\site-packages\\ipykernel_launcher.py:5: DeprecationWarning: elementwise comparison failed; this will raise an error in the future.\n",
      "  \"\"\"\n"
     ]
    }
   ],
   "source": [
    "print(m3)\n",
    "print()\n",
    "print(mt1)\n",
    "print()\n",
    "print(mt1==m3)"
   ]
  },
  {
   "cell_type": "code",
   "execution_count": 54,
   "metadata": {},
   "outputs": [
    {
     "name": "stdout",
     "output_type": "stream",
     "text": [
      "[[ 1  2  3  4]\n",
      " [ 5  6  7  8]\n",
      " [ 9 10 11 12]\n",
      " [13 14 15 16]]\n",
      "\n",
      "[[ 1  5  9 13]\n",
      " [ 2  6 10 14]\n",
      " [ 3  7 11 15]\n",
      " [ 4  8 12 16]]\n",
      "[[ 0 -3 -6 -9]\n",
      " [ 3  0 -3 -6]\n",
      " [ 6  3  0 -3]\n",
      " [ 9  6  3  0]]\n"
     ]
    }
   ],
   "source": [
    "#find diffrence of M4 = (M1 - M2)\n",
    "\n",
    "print(m1)\n",
    "print()\n",
    "print(m2)\n",
    "m4=m1-m2\n",
    "print(m4)"
   ]
  },
  {
   "cell_type": "code",
   "execution_count": 55,
   "metadata": {},
   "outputs": [
    {
     "name": "stdout",
     "output_type": "stream",
     "text": [
      "[[ 0 -3 -6 -9]\n",
      " [ 3  0 -3 -6]\n",
      " [ 6  3  0 -3]\n",
      " [ 9  6  3  0]]\n",
      "\n",
      "[[ 0  3  6  9]\n",
      " [-3  0  3  6]\n",
      " [-6 -3  0  3]\n",
      " [-9 -6 -3  0]]\n"
     ]
    }
   ],
   "source": [
    "# Find Transpose of M4, Call it MT2. Check if M4 == MT2. Also check if M4 == -MT2\n",
    "\n",
    "print(m4)\n",
    "print()\n",
    "print(m4.T)"
   ]
  },
  {
   "cell_type": "code",
   "execution_count": 93,
   "metadata": {},
   "outputs": [
    {
     "name": "stdout",
     "output_type": "stream",
     "text": [
      "[[16 19 26 30]\n",
      " [36 19 27 34]\n",
      " [16 39 29 12]]\n"
     ]
    }
   ],
   "source": [
    "# create a matrix (3x4) R1 of random numbers between 10-40\n",
    "r1=np.random.randint(10,40,size=(3,4))\n",
    "print(r1)"
   ]
  },
  {
   "cell_type": "code",
   "execution_count": 94,
   "metadata": {},
   "outputs": [
    {
     "name": "stdout",
     "output_type": "stream",
     "text": [
      "[30 36 39]\n",
      "[16 19 12]\n"
     ]
    }
   ],
   "source": [
    "# find min and max column wise\n",
    "# print(r1.max)\n",
    "# print(r1.max(axis=0))\n",
    "# print(r1.max(axis=0))\n",
    "print(r1.max(axis=1))\n",
    "print(r1.min(axis=1))"
   ]
  },
  {
   "cell_type": "code",
   "execution_count": 108,
   "metadata": {},
   "outputs": [
    {
     "name": "stdout",
     "output_type": "stream",
     "text": [
      "[[16 19 26 30]\n",
      " [36 19 27 34]\n",
      " [16 39 29 12]]\n",
      "\n",
      "[[16 19 26 68]\n",
      " [36 19 27 77]\n",
      " [16 39 29 82]]\n"
     ]
    }
   ],
   "source": [
    "# replace the last column with sum of all the columns\n",
    "print(r1)\n",
    "print()\n",
    "m=r1.sum(axis=0)\n",
    "r1[:,3]=m[0:3]\n",
    "print(r1)\n"
   ]
  },
  {
   "cell_type": "code",
   "execution_count": 85,
   "metadata": {},
   "outputs": [
    {
     "name": "stdout",
     "output_type": "stream",
     "text": [
      "[[14 27 35 10]\n",
      " [16 25 23 37]\n",
      " [14 24 36 11]]\n"
     ]
    }
   ],
   "source": [
    "#create a matrix (3x4) R1 of random numbers between 10-40\n",
    "r2=np.random.randint(10,40,size=(3,4))\n",
    "print(r2)"
   ]
  },
  {
   "cell_type": "code",
   "execution_count": 114,
   "metadata": {},
   "outputs": [
    {
     "name": "stdout",
     "output_type": "stream",
     "text": [
      "[[14 27 35 10]\n",
      " [16 25 23 37]\n",
      " [14 24 36 11]]\n",
      "\n",
      "[14. 10. 16. 14. 24. 36.]\n",
      "\n",
      "[[nan 27. 35. nan]\n",
      " [nan 25. 23. 37.]\n",
      " [nan nan nan 11.]]\n"
     ]
    }
   ],
   "source": [
    "#replace all even elements with nan in R1\n",
    "print(r2)\n",
    "print()\n",
    "p=r2.astype('float16')\n",
    "n=(p%2==0)\n",
    "print(p[n])\n",
    "print()\n",
    "p[n]=np.nan\n",
    "print(p)\n"
   ]
  },
  {
   "cell_type": "code",
   "execution_count": 117,
   "metadata": {},
   "outputs": [
    {
     "name": "stdout",
     "output_type": "stream",
     "text": [
      "6\n"
     ]
    }
   ],
   "source": [
    "# count number of nan in R1\n",
    "print(np.isnan(p).sum())"
   ]
  },
  {
   "cell_type": "code",
   "execution_count": 119,
   "metadata": {},
   "outputs": [
    {
     "name": "stdout",
     "output_type": "stream",
     "text": [
      "\n",
      "\n",
      "[ 1  2  3  4  5  6  7  8  9 11 12 13 14 15 16 17 18 19]\n",
      "\n",
      "[[ 1  2  3]\n",
      " [ 4  5  6]\n",
      " [ 7  8  9]\n",
      " [11 12 13]\n",
      " [14 15 16]\n",
      " [17 18 19]]\n",
      "\n",
      "[[ 1  2  3 11 12 13]\n",
      " [ 4  5  6 14 15 16]\n",
      " [ 7  8  9 17 18 19]]\n"
     ]
    }
   ],
   "source": [
    "a1 = np.arange(1,10).reshape(3,3)\n",
    "print()\n",
    "a2 = np.arange(11,20).reshape(3,3)\n",
    "print()\n",
    "a3 = np.append(a1,a2)\n",
    "print(a3)\n",
    "print()\n",
    "a3 = np.append(a1,a2, axis = 0)\n",
    "print(a3)\n",
    "print()\n",
    "a3 = np.append(a1,a2, axis = 1)\n",
    "print(a3)"
   ]
  },
  {
   "cell_type": "code",
   "execution_count": null,
   "metadata": {},
   "outputs": [],
   "source": []
  }
 ],
 "metadata": {
  "kernelspec": {
   "display_name": "Python 3",
   "language": "python",
   "name": "python3"
  },
  "language_info": {
   "codemirror_mode": {
    "name": "ipython",
    "version": 3
   },
   "file_extension": ".py",
   "mimetype": "text/x-python",
   "name": "python",
   "nbconvert_exporter": "python",
   "pygments_lexer": "ipython3",
   "version": "3.7.6"
  }
 },
 "nbformat": 4,
 "nbformat_minor": 2
}
