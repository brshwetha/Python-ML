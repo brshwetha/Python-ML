{
 "cells": [
  {
   "cell_type": "markdown",
   "metadata": {},
   "source": [
    "\n",
    "### Titanic Plotting\n",
    "- Load data generated previously from 'titanic_filtered.csv'\n",
    "- plot histogram of ages of people\n",
    "- plot no of people in each pclass on bar chart\n",
    "\n",
    "\n",
    "- plot a horizontal bar-chart depicting the ratio of males to females\n",
    "- plot a bar-chart depicting the ratio of male-survived, female-survived, male-dead, female-dead. \n",
    "- plot a stacked bar chart of number of male-survived,dead and female-survived, dead.\n",
    "- plot stacked bar of survived with different pclass in same bar.\n",
    "\n",
    "\n",
    "- plot box plot of ages of survived vs not-survived\n",
    "- plot scatter plot of ages vs survived."
   ]
  },
  {
   "cell_type": "code",
   "execution_count": 1,
   "metadata": {},
   "outputs": [],
   "source": [
    "import pandas as pd\n",
    "import matplotlib.pyplot as plt\n",
    "import numpy as np"
   ]
  },
  {
   "cell_type": "code",
   "execution_count": 2,
   "metadata": {},
   "outputs": [
    {
     "name": "stdout",
     "output_type": "stream",
     "text": [
      "      Unnamed: 0  pclass  survived  gender        age  sibsp  parch    fare  \\\n",
      "0              0       1         1  female  29.000000      0      0  211.34   \n",
      "1              1       1         1    male   0.916700      1      2  151.55   \n",
      "2              2       1         0  female   2.000000      1      2  151.55   \n",
      "3              3       1         0    male  30.000000      1      2  151.55   \n",
      "4              4       1         0  female  25.000000      1      2  151.55   \n",
      "...          ...     ...       ...     ...        ...    ...    ...     ...   \n",
      "1302        1304       3         0  female  14.500000      1      0   14.45   \n",
      "1303        1305       3         0  female  29.881135      1      0   14.45   \n",
      "1304        1306       3         0    male  26.500000      0      0    7.23   \n",
      "1305        1307       3         0    male  27.000000      0      0    7.23   \n",
      "1306        1308       3         0    male  29.000000      0      0    7.88   \n",
      "\n",
      "     embarked  \n",
      "0           S  \n",
      "1           S  \n",
      "2           S  \n",
      "3           S  \n",
      "4           S  \n",
      "...       ...  \n",
      "1302        C  \n",
      "1303        C  \n",
      "1304        C  \n",
      "1305        C  \n",
      "1306        S  \n",
      "\n",
      "[1307 rows x 9 columns]\n"
     ]
    }
   ],
   "source": [
    "# Load data generated previously from 'titanic_filtered.csv'\n",
    "df=pd.read_csv('titanic_filtered.csv')\n",
    "print(df)"
   ]
  },
  {
   "cell_type": "code",
   "execution_count": 3,
   "metadata": {},
   "outputs": [
    {
     "name": "stdout",
     "output_type": "stream",
     "text": [
      "Index(['Unnamed: 0', 'pclass', 'survived', 'gender', 'age', 'sibsp', 'parch',\n",
      "       'fare', 'embarked'],\n",
      "      dtype='object')\n",
      "0       29.000000\n",
      "1        0.916700\n",
      "2        2.000000\n",
      "3       30.000000\n",
      "4       25.000000\n",
      "          ...    \n",
      "1302    14.500000\n",
      "1303    29.881135\n",
      "1304    26.500000\n",
      "1305    27.000000\n",
      "1306    29.000000\n",
      "Name: age, Length: 1307, dtype: float64\n"
     ]
    },
    {
     "data": {
      "image/png": "[encoded data removed]",
      "text/plain": [
       "<Figure size 720x360 with 1 Axes>"
      ]
     },
     "metadata": {
      "needs_background": "light"
     },
     "output_type": "display_data"
    }
   ],
   "source": [
    "# plot histogram of ages of people\n",
    "\n",
    "print(df.columns)\n",
    "print(df.age)\n",
    "\n",
    "plt.figure(figsize=(10,5))\n",
    "df.age.plot(kind=\"hist\", bins=10,color='g',rwidth=0.9)\n",
    "\n",
    "plt.show()"
   ]
  },
  {
   "cell_type": "code",
   "execution_count": 32,
   "metadata": {},
   "outputs": [
    {
     "name": "stdout",
     "output_type": "stream",
     "text": [
      "0       1\n",
      "1       1\n",
      "2       1\n",
      "3       1\n",
      "4       1\n",
      "       ..\n",
      "1302    3\n",
      "1303    3\n",
      "1304    3\n",
      "1305    3\n",
      "1306    3\n",
      "Name: pclass, Length: 1307, dtype: int64\n",
      "\n",
      "[1 2 3]\n",
      "3    709\n",
      "1    321\n",
      "2    277\n",
      "Name: pclass, dtype: int64\n"
     ]
    },
    {
     "data": {
      "text/plain": [
       "<matplotlib.axes._subplots.AxesSubplot at 0x1807f472708>"
      ]
     },
     "execution_count": 32,
     "metadata": {},
     "output_type": "execute_result"
    },
    {
     "data": {
      "image/png": "[encoded data removed]",
      "text/plain": [
       "<Figure size 432x288 with 1 Axes>"
      ]
     },
     "metadata": {
      "needs_background": "light"
     },
     "output_type": "display_data"
    }
   ],
   "source": [
    "# plot no of people in each pclass on bar chart\n",
    "\n",
    "print(df.pclass)\n",
    "print()\n",
    "print(df.pclass.unique())\n",
    "x=(df.pclass.value_counts())\n",
    "print(x)\n",
    "x.plot(kind='bar',color='r')"
   ]
  },
  {
   "cell_type": "code",
   "execution_count": 37,
   "metadata": {},
   "outputs": [
    {
     "name": "stdout",
     "output_type": "stream",
     "text": [
      "male      843\n",
      "female    464\n",
      "Name: gender, dtype: int64\n"
     ]
    },
    {
     "data": {
      "text/plain": [
       "<matplotlib.axes._subplots.AxesSubplot at 0x1807f7949c8>"
      ]
     },
     "execution_count": 37,
     "metadata": {},
     "output_type": "execute_result"
    },
    {
     "data": {
      "image/png": "[encoded data removed]",
      "text/plain": [
       "<Figure size 1080x360 with 2 Axes>"
      ]
     },
     "metadata": {
      "needs_background": "light"
     },
     "output_type": "display_data"
    }
   ],
   "source": [
    "# plot a bar-chart depicting the ratio of males to females\n",
    "\n",
    "x=(df.gender.value_counts())\n",
    "print(x)\n",
    "\n",
    "plt.figure(figsize=(15,5))\n",
    "plt.subplot(1,2,1)\n",
    "x.plot(kind='barh',color='y')\n",
    "\n",
    "plt.subplot(1,2,2)\n",
    "y=df.groupby(\"pclass\").size()\n",
    "y.plot.bar(y,color='k')\n"
   ]
  },
  {
   "cell_type": "code",
   "execution_count": 43,
   "metadata": {},
   "outputs": [
    {
     "name": "stdout",
     "output_type": "stream",
     "text": [
      "[1 0]\n"
     ]
    },
    {
     "data": {
      "text/plain": [
       "<matplotlib.axes._subplots.AxesSubplot at 0x1807f26c788>"
      ]
     },
     "execution_count": 43,
     "metadata": {},
     "output_type": "execute_result"
    },
    {
     "data": {
      "image/png": "[encoded data removed]",
      "text/plain": [
       "<Figure size 432x288 with 1 Axes>"
      ]
     },
     "metadata": {
      "needs_background": "light"
     },
     "output_type": "display_data"
    }
   ],
   "source": [
    "# plot a bar-chart depicting the ratio of male-survived, female-survived, male-dead, female-dead.\n",
    "\n",
    "print(df.survived.unique()) #0-dead,1-avlive\n",
    "\n",
    "MF_ratio=(df.groupby(['gender','survived']).size())\n",
    "MF_ratio.plot.bar(color='m')\n"
   ]
  },
  {
   "cell_type": "code",
   "execution_count": 48,
   "metadata": {},
   "outputs": [
    {
     "name": "stdout",
     "output_type": "stream",
     "text": [
      "gender  survived  pclass\n",
      "female  0         1           5\n",
      "                  2          12\n",
      "                  3         110\n",
      "        1         1         137\n",
      "                  2          94\n",
      "                  3         106\n",
      "male    0         1         118\n",
      "                  2         146\n",
      "                  3         418\n",
      "        1         1          61\n",
      "                  2          25\n",
      "                  3          75\n",
      "dtype: int64\n",
      "MultiIndex([('female', 0, 1),\n",
      "            ('female', 0, 2),\n",
      "            ('female', 0, 3),\n",
      "            ('female', 1, 1),\n",
      "            ('female', 1, 2),\n",
      "            ('female', 1, 3),\n",
      "            (  'male', 0, 1),\n",
      "            (  'male', 0, 2),\n",
      "            (  'male', 0, 3),\n",
      "            (  'male', 1, 1),\n",
      "            (  'male', 1, 2),\n",
      "            (  'male', 1, 3)],\n",
      "           names=['gender', 'survived', 'pclass'])\n",
      "\n",
      "pclass             1    2    3\n",
      "gender survived               \n",
      "female 0           5   12  110\n",
      "       1         137   94  106\n",
      "male   0         118  146  418\n",
      "       1          61   25   75\n"
     ]
    },
    {
     "data": {
      "text/plain": [
       "<matplotlib.axes._subplots.AxesSubplot at 0x1807f90a208>"
      ]
     },
     "execution_count": 48,
     "metadata": {},
     "output_type": "execute_result"
    },
    {
     "data": {
      "image/png": "[encoded data removed]",
      "text/plain": [
       "<Figure size 432x288 with 1 Axes>"
      ]
     },
     "metadata": {
      "needs_background": "light"
     },
     "output_type": "display_data"
    }
   ],
   "source": [
    "# plot a stacked bar chart of number of male-survived,dead and female-survived, dead. --------- TAKING PCLASS\n",
    "\n",
    "s= df.groupby([\"gender\", \"survived\", \"pclass\"]).size()\n",
    "print(s)\n",
    "print(s.index)\n",
    "print()\n",
    "res = s.unstack()\n",
    "print(res)\n",
    "res.plot(kind=\"bar\", stacked=True)"
   ]
  },
  {
   "cell_type": "code",
   "execution_count": 58,
   "metadata": {},
   "outputs": [
    {
     "name": "stdout",
     "output_type": "stream",
     "text": [
      "gender  survived\n",
      "female  0           127\n",
      "        1           337\n",
      "male    0           682\n",
      "        1           161\n",
      "dtype: int64\n",
      "survived    0    1\n",
      "gender            \n",
      "female    127  337\n",
      "male      682  161\n"
     ]
    },
    {
     "data": {
      "image/png": "[encoded data removed]",
      "text/plain": [
       "<Figure size 432x288 with 1 Axes>"
      ]
     },
     "metadata": {
      "needs_background": "light"
     },
     "output_type": "display_data"
    },
    {
     "data": {
      "image/png": "[encoded data removed]",
      "text/plain": [
       "<Figure size 432x288 with 1 Axes>"
      ]
     },
     "metadata": {
      "needs_background": "light"
     },
     "output_type": "display_data"
    }
   ],
   "source": [
    "# plot a stacked bar chart of number of male-survived,dead and female-survived, dead.\n",
    "\n",
    "z=df.groupby(['gender','survived']).size()\n",
    "print(z)\n",
    "\n",
    "res=z.unstack()\n",
    "print(res)\n",
    "\n",
    "#TWO WAYS OF PLOTTING BAR GRAPH\n",
    "\n",
    "#FIRST WAY\n",
    "\n",
    "res.plot.bar(stacked=True)\n",
    "plt.show()\n",
    "\n",
    "#SECOND WAY\n",
    "\n",
    "res.plot(kind='bar',stacked=True)\n",
    "plt.show()\n",
    "\n"
   ]
  },
  {
   "cell_type": "code",
   "execution_count": 62,
   "metadata": {},
   "outputs": [
    {
     "name": "stdout",
     "output_type": "stream",
     "text": [
      "pclass  survived\n",
      "1       0           123\n",
      "        1           198\n",
      "2       0           158\n",
      "        1           119\n",
      "3       0           528\n",
      "        1           181\n",
      "dtype: int64\n",
      "survived    0    1\n",
      "pclass            \n",
      "1         123  198\n",
      "2         158  119\n",
      "3         528  181\n"
     ]
    },
    {
     "data": {
      "text/plain": [
       "<matplotlib.axes._subplots.AxesSubplot at 0x1800107d208>"
      ]
     },
     "execution_count": 62,
     "metadata": {},
     "output_type": "execute_result"
    },
    {
     "data": {
      "image/png": "[encoded data removed]",
      "text/plain": [
       "<Figure size 432x288 with 1 Axes>"
      ]
     },
     "metadata": {
      "needs_background": "light"
     },
     "output_type": "display_data"
    }
   ],
   "source": [
    "# plot stacked bar of survived with different pclass in same bar\n",
    "\n",
    "k=df.groupby(['pclass','survived']).size()\n",
    "print(k)\n",
    "\n",
    "res=k.unstack()\n",
    "print(res)\n",
    "\n",
    "res.plot(kind='bar',color=('r','g'),stacked=True)"
   ]
  },
  {
   "cell_type": "code",
   "execution_count": 72,
   "metadata": {},
   "outputs": [
    {
     "name": "stdout",
     "output_type": "stream",
     "text": [
      "0    809\n",
      "1    498\n",
      "Name: survived, dtype: int64\n"
     ]
    },
    {
     "data": {
      "image/png": "[encoded data removed]",
      "text/plain": [
       "<Figure size 432x288 with 1 Axes>"
      ]
     },
     "metadata": {
      "needs_background": "light"
     },
     "output_type": "display_data"
    },
    {
     "data": {
      "image/png": "[encoded data removed]",
      "text/plain": [
       "<Figure size 432x288 with 1 Axes>"
      ]
     },
     "metadata": {
      "needs_background": "light"
     },
     "output_type": "display_data"
    }
   ],
   "source": [
    "# plot box plot of ages of survived vs not-survived\n",
    "\n",
    "#----------------WRONG-----------------------------------------------\n",
    "#it is taking range from 498 to 809\n",
    "\n",
    "# b=(df.survived.value_counts())\n",
    "# print(b)\n",
    "\n",
    "# #FIRST WAY\n",
    "# plt.boxplot(b)\n",
    "# plt.show()\n",
    "\n",
    "# #SECOND WAY\n",
    "# b.plot(kind='box',color='m')\n",
    "# plt.show()\n"
   ]
  },
  {
   "cell_type": "code",
   "execution_count": 9,
   "metadata": {},
   "outputs": [],
   "source": [
    "# plot scatter plot of ages vs survived.\n"
   ]
  }
 ],
 "metadata": {
  "kernelspec": {
   "display_name": "Python 3",
   "language": "python",
   "name": "python3"
  },
  "language_info": {
   "codemirror_mode": {
    "name": "ipython",
    "version": 3
   },
   "file_extension": ".py",
   "mimetype": "text/x-python",
   "name": "python",
   "nbconvert_exporter": "python",
   "pygments_lexer": "ipython3",
   "version": "3.7.6"
  }
 },
 "nbformat": 4,
 "nbformat_minor": 2
}
