{
 "cells": [
  {
   "cell_type": "code",
   "execution_count": 1,
   "metadata": {},
   "outputs": [],
   "source": [
    "import numpy as np\n",
    "import pandas as pd"
   ]
  },
  {
   "cell_type": "code",
   "execution_count": 2,
   "metadata": {},
   "outputs": [
    {
     "name": "stdout",
     "output_type": "stream",
     "text": [
      "0    10.0\n",
      "1    20.0\n",
      "2    30.0\n",
      "3     NaN\n",
      "4    40.0\n",
      "dtype: float64\n"
     ]
    }
   ],
   "source": [
    "#Pandas-3 data structures\n",
    "# 1)Series\n",
    "# 2)DataFrame\n",
    "# 3)Panel\n",
    "\n",
    "#Syntax -pandas.Series( data, index, dtype, copy)\n",
    "\n",
    "#It is size immutable\n",
    "#It has homogeneous data\n",
    "#Value mutable\n",
    "\n",
    "#DataFrame\n",
    "\n",
    "#Size is mutable\n",
    "#value is mutable\n",
    "#It can contain heterogeneous data\n",
    "\n",
    "s=pd.Series([10,20,30,np.nan,40])\n",
    "print(s)\n"
   ]
  },
  {
   "cell_type": "code",
   "execution_count": 43,
   "metadata": {},
   "outputs": [
    {
     "name": "stdout",
     "output_type": "stream",
     "text": [
      "1    10\n",
      "2    20\n",
      "3    30\n",
      "4    40\n",
      "dtype: int64\n",
      "\n",
      "20\n",
      "\n",
      "2\n"
     ]
    }
   ],
   "source": [
    "s=pd.Series([10,20,30,40],index=[1,2,3,4])\n",
    "y=pd.Series([1,2,3,4],index=['a','b','c','d'])\n",
    "print(s)\n",
    "print()\n",
    "print(s[2])\n",
    "print()\n",
    "print(y['b'])"
   ]
  },
  {
   "cell_type": "code",
   "execution_count": null,
   "metadata": {},
   "outputs": [],
   "source": [
    "#DATAFRAMES\n",
    "\n",
    "#Syntax:pandas.DataFrame( data, index, columns, dtype, copy)\n",
    "\n",
    "# A pandas DataFrame can be created using various inputs like −\n",
    "\n",
    "# Lists\n",
    "# Dict\n",
    "# Series\n",
    "# Numpy ndarrays\n",
    "# Another DataFrame"
   ]
  },
  {
   "cell_type": "code",
   "execution_count": 45,
   "metadata": {},
   "outputs": [
    {
     "name": "stdout",
     "output_type": "stream",
     "text": [
      "Empty DataFrame\n",
      "Columns: []\n",
      "Index: []\n"
     ]
    }
   ],
   "source": [
    "df=pd.DataFrame([])\n",
    "print(df)"
   ]
  },
  {
   "cell_type": "code",
   "execution_count": 46,
   "metadata": {},
   "outputs": [
    {
     "name": "stdout",
     "output_type": "stream",
     "text": [
      "     Name Age\n",
      "a     Tom  10\n",
      "b   Jerry   8\n",
      "c  Scooby  15\n",
      "d  Shaggy  25\n"
     ]
    }
   ],
   "source": [
    "data=(['Tom','10'],['Jerry','8'],['Scooby','15'],['Shaggy','25'])\n",
    "df=pd.DataFrame(data,index=['a','b','c','d'],columns=['Name','Age'])\n",
    "print(df)"
   ]
  },
  {
   "cell_type": "code",
   "execution_count": 36,
   "metadata": {},
   "outputs": [
    {
     "name": "stdout",
     "output_type": "stream",
     "text": [
      "   A          B    C    D      E     F\n",
      "0  1 2020-07-20  1.0  5.0   true  blah\n",
      "1  2 2020-07-20  1.0  5.0  false  blah\n",
      "2  3 2020-07-20  1.0  5.0   true  blah\n",
      "3  4 2020-07-20  1.0  5.0  false  blah\n"
     ]
    }
   ],
   "source": [
    "df=pd.DataFrame({'A':[1,2,3,4],\n",
    "                 'B':pd.Timestamp('20200720'),\n",
    "                 'C':pd.Series(1,index=list(range(4)),dtype='float64'),\n",
    "                 'D':np.array([5]*4,dtype='float64'),\n",
    "                 'E':pd.Categorical(['true','false','true','false']),\n",
    "                 'F':'blah'})\n",
    "print(df)\n"
   ]
  },
  {
   "cell_type": "code",
   "execution_count": 52,
   "metadata": {},
   "outputs": [
    {
     "name": "stdout",
     "output_type": "stream",
     "text": [
      "   one  two\n",
      "a  1.0    1\n",
      "b  2.0    2\n",
      "c  3.0    3\n",
      "d  NaN    4\n",
      "\n",
      "a    1.0\n",
      "b    2.0\n",
      "c    3.0\n",
      "d    NaN\n",
      "Name: one, dtype: float64\n"
     ]
    }
   ],
   "source": [
    "data = ({'one' : pd.Series([1, 2, 3], index=['a', 'b', 'c']),'two' : pd.Series([1, 2, 3, 4], index=['a', 'b', 'c', 'd'])})\n",
    "\n",
    "df = pd.DataFrame(data)\n",
    "print (df)\n",
    "print()\n",
    "print(df['one'])"
   ]
  },
  {
   "cell_type": "code",
   "execution_count": 3,
   "metadata": {},
   "outputs": [
    {
     "name": "stdout",
     "output_type": "stream",
     "text": [
      "DatetimeIndex(['2020-07-20', '2020-07-21', '2020-07-22', '2020-07-23',\n",
      "               '2020-07-24', '2020-07-25', '2020-07-26', '2020-07-27',\n",
      "               '2020-07-28', '2020-07-29'],\n",
      "              dtype='datetime64[ns]', freq='D')\n"
     ]
    }
   ],
   "source": [
    "#date_range\n",
    "\n",
    "dates=pd.date_range('20200720',periods=10) #yyyymmdd\n",
    "print(dates)"
   ]
  },
  {
   "cell_type": "code",
   "execution_count": 20,
   "metadata": {},
   "outputs": [
    {
     "name": "stdout",
     "output_type": "stream",
     "text": [
      "DatetimeIndex(['2007-12-20', '2007-12-21', '2007-12-22', '2007-12-23',\n",
      "               '2007-12-24'],\n",
      "              dtype='datetime64[ns]', freq='D')\n"
     ]
    }
   ],
   "source": [
    "dates=pd.date_range('20071220',periods=5)\n",
    "print(dates)"
   ]
  },
  {
   "cell_type": "code",
   "execution_count": 26,
   "metadata": {},
   "outputs": [
    {
     "name": "stdout",
     "output_type": "stream",
     "text": [
      "            A  B  C  D\n",
      "2007-12-20  6  6  6  6\n",
      "2007-12-21  6  6  6  6\n",
      "2007-12-22  6  6  6  6\n",
      "2007-12-23  6  6  6  6\n",
      "2007-12-24  6  6  6  6\n"
     ]
    }
   ],
   "source": [
    "#np arrays in a DataFrame\n",
    "\n",
    "df=pd.DataFrame(np.random.randint(4,10),index=dates,columns=['A','B','C','D'])\n",
    "print(df)"
   ]
  },
  {
   "cell_type": "code",
   "execution_count": 55,
   "metadata": {},
   "outputs": [
    {
     "name": "stdout",
     "output_type": "stream",
     "text": [
      "a    7.0\n",
      "b    8.0\n",
      "c    9.0\n",
      "d    NaN\n",
      "Name: three, dtype: float64\n",
      "\n",
      "a    1.0\n",
      "b    4.0\n",
      "c    9.0\n",
      "d    NaN\n",
      "Name: four, dtype: float64\n",
      "\n",
      "   one  two  three  four\n",
      "a  1.0  1.0    7.0   1.0\n",
      "b  2.0  2.0    8.0   4.0\n",
      "c  3.0  3.0    9.0   9.0\n",
      "d  NaN  4.0    NaN   NaN\n"
     ]
    }
   ],
   "source": [
    "#COLUMN ADDITION\n",
    "\n",
    "data = {'one' : pd.Series([1, 2, 3], index=['a', 'b', 'c']),'two' : pd.Series([1, 2, 3, 4], index=['a', 'b', 'c', 'd'],dtype='float16')}\n",
    "df=pd.DataFrame(data)\n",
    "df['three']=pd.Series([7,8,9],index=['a','b','c'])\n",
    "df['four']=df['one']*df['two']\n",
    "print(df['three'])\n",
    "print()\n",
    "print(df['four'])\n",
    "print()\n",
    "print(df)"
   ]
  },
  {
   "cell_type": "code",
   "execution_count": 62,
   "metadata": {},
   "outputs": [
    {
     "name": "stdout",
     "output_type": "stream",
     "text": [
      "   one  two  three\n",
      "a  1.0    1   10.0\n",
      "b  2.0    2   20.0\n",
      "c  3.0    3   30.0\n",
      "d  NaN    4    NaN\n",
      "\n",
      "   two  three\n",
      "a    1   10.0\n",
      "b    2   20.0\n",
      "c    3   30.0\n",
      "d    4    NaN\n",
      "\n",
      "   three\n",
      "a   10.0\n",
      "b   20.0\n",
      "c   30.0\n",
      "d    NaN\n",
      "\n",
      "Empty DataFrame\n",
      "Columns: []\n",
      "Index: [a, b, c, d]\n"
     ]
    }
   ],
   "source": [
    "#COLUMN DELETION - remove,pop,del\n",
    "\n",
    "data = {'one' : pd.Series([1, 2, 3], index=['a', 'b', 'c']), 'two' : pd.Series([1, 2, 3, 4], index=['a', 'b', 'c', 'd']), \n",
    "        'three' : pd.Series([10,20,30], index=['a','b','c'])}\n",
    "df=pd.DataFrame(data)\n",
    "print(df)\n",
    "print()\n",
    "df.pop('one')\n",
    "print(df)\n",
    "print()\n",
    "del df['two']\n",
    "print(df)\n",
    "print()\n"
   ]
  },
  {
   "cell_type": "code",
   "execution_count": 130,
   "metadata": {},
   "outputs": [
    {
     "name": "stdout",
     "output_type": "stream",
     "text": [
      "   one  two\n",
      "a  1.0    1\n",
      "b  2.0    2\n",
      "c  3.0    3\n",
      "d  NaN    4\n",
      "\n",
      "one    NaN\n",
      "two    4.0\n",
      "Name: d, dtype: float64\n",
      "\n",
      "one    1.0\n",
      "two    1.0\n",
      "Name: a, dtype: float64\n",
      "\n",
      "   one  two\n",
      "a  1.0    1\n",
      "b  2.0    2\n",
      "c  3.0    3\n",
      "\n",
      "   one\n",
      "a  1.0\n",
      "c  3.0\n",
      "\n"
     ]
    }
   ],
   "source": [
    "#Rows selection:\n",
    "\n",
    "#Selection by label\n",
    "#Selection by integer Location\n",
    "\n",
    "data = {'one' : pd.Series([1, 2, 3], index=['a', 'b', 'c']), \n",
    "     'two' : pd.Series([1, 2, 3, 4], index=['a', 'b', 'c', 'd'])}\n",
    "df=pd.DataFrame(data)\n",
    "print(df)\n",
    "print()\n",
    "print(df.loc['d'])     #by Label\n",
    "print()      \n",
    "print(df.loc['a'])\n",
    "print()\n",
    "print(df.loc[:'c'])\n",
    "print()\n",
    "print(df.loc[::2, 'one'::2])  ##############################################################\n",
    "print()\n",
    "# print(df.loc[1:3, 'one':'two'])  ##############################################################"
   ]
  },
  {
   "cell_type": "code",
   "execution_count": 132,
   "metadata": {},
   "outputs": [
    {
     "name": "stdout",
     "output_type": "stream",
     "text": [
      "one    2.0\n",
      "two    2.0\n",
      "Name: b, dtype: float64\n",
      "\n",
      "a    1.0\n",
      "b    2.0\n",
      "c    3.0\n",
      "d    NaN\n",
      "Name: one, dtype: float64\n",
      "\n",
      "   two\n",
      "a    1\n",
      "b    2\n",
      "c    3\n",
      "d    4\n",
      "\n",
      "   one  two\n",
      "b  2.0    2\n",
      "c  3.0    3\n",
      "d  NaN    4\n"
     ]
    }
   ],
   "source": [
    "df.iloc[3]#by integer Location\n",
    "\n",
    "print(df.iloc[1])\n",
    "print()\n",
    "print(df.iloc[:,0])\n",
    "print()\n",
    "print(df.iloc[:,1:])\n",
    "print()\n",
    "print(df.iloc[:][1:])"
   ]
  },
  {
   "cell_type": "code",
   "execution_count": 76,
   "metadata": {},
   "outputs": [
    {
     "name": "stdout",
     "output_type": "stream",
     "text": [
      "   a  b\n",
      "w  1  2\n",
      "x  3  4\n",
      "0  5  6\n",
      "1  7  8\n"
     ]
    }
   ],
   "source": [
    "#Addition of rows\n",
    "\n",
    "df1 = pd.DataFrame([[1, 2], [3, 4]],columns = ['a','b'])\n",
    "df2 = pd.DataFrame([[5, 6], [7, 8]], columns = ['a','b'])\n",
    "df1=df1.append(df2)\n",
    "print(df1)"
   ]
  },
  {
   "cell_type": "code",
   "execution_count": 78,
   "metadata": {},
   "outputs": [
    {
     "name": "stdout",
     "output_type": "stream",
     "text": [
      "   a  b\n",
      "0  1  2\n",
      "1  3  4\n",
      "0  5  6\n",
      "1  7  8\n",
      "\n",
      "   a  b\n",
      "1  3  4\n",
      "1  7  8\n"
     ]
    }
   ],
   "source": [
    "#Deletion of rows\n",
    "df1 = pd.DataFrame([[1, 2], [3, 4]],columns = ['a','b'])\n",
    "df2 = pd.DataFrame([[5, 6], [7, 8]], columns = ['a','b'])\n",
    "df1=df1.append(df2)\n",
    "print(df1)\n",
    "print()\n",
    "print(df1.drop(0))"
   ]
  },
  {
   "cell_type": "code",
   "execution_count": 79,
   "metadata": {},
   "outputs": [
    {
     "name": "stdout",
     "output_type": "stream",
     "text": [
      "   one  two\n",
      "a  1.0    1\n",
      "b  2.0    2\n",
      "c  3.0    3\n",
      "d  NaN    4\n",
      "\n",
      "   one  two\n",
      "c  3.0    3\n",
      "d  NaN    4\n"
     ]
    }
   ],
   "source": [
    "#Slicing of rows\n",
    "\n",
    "data = {'one' : pd.Series([1, 2, 3], index=['a', 'b', 'c']), 'two' : pd.Series([1, 2, 3, 4], index=['a', 'b', 'c', 'd'])}\n",
    "df = pd.DataFrame(data)\n",
    "print(df)\n",
    "print()\n",
    "print (df[2:4])"
   ]
  },
  {
   "cell_type": "code",
   "execution_count": 95,
   "metadata": {},
   "outputs": [
    {
     "name": "stdout",
     "output_type": "stream",
     "text": [
      "(4, 2)\n",
      "\n",
      "8\n",
      "\n",
      "one    float64\n",
      "two      int64\n",
      "dtype: object\n",
      "\n",
      "Index(['a', 'b', 'c', 'd'], dtype='object')\n",
      "\n",
      "Index(['one', 'two'], dtype='object')\n",
      "\n",
      "   one  two\n",
      "a  1.0    1\n",
      "b  2.0    2\n",
      "c  3.0    3\n",
      "d  NaN    4\n",
      "\n",
      "       a    b    c    d\n",
      "one  1.0  2.0  3.0  NaN\n",
      "two  1.0  2.0  3.0  4.0\n",
      "\n",
      "   Abc  two\n",
      "a  1.0    1\n",
      "b  2.0    2\n",
      "c  3.0    3\n",
      "d  NaN    4\n",
      "\n",
      "    one  two\n",
      "a   1.0    1\n",
      "50  2.0    2\n",
      "c   3.0    3\n",
      "d   NaN    4\n",
      "\n"
     ]
    }
   ],
   "source": [
    "data = {'one' : pd.Series([1, 2, 3], index=['a', 'b', 'c']), 'two' : pd.Series([1, 2, 3, 4], index=['a', 'b', 'c', 'd'])}\n",
    "print(df.shape) #no or rows,columns\n",
    "print()\n",
    "print(df.size)\n",
    "print()\n",
    "print(df.dtypes) #data types of each column and overall datatype\n",
    "print()\n",
    "print(df.index) # displays indexes and their datatype\n",
    "print()\n",
    "print(df.columns) #displays column names and their datatype\n",
    "print()\n",
    "print(df)\n",
    "print()\n",
    "print(df.T)\n",
    "print()\n",
    "print(df.rename(columns = {'one':'Abc'})) #renaming column names\n",
    "print()\n",
    "print(df.rename(index={'b':50})) # renaming the index\n",
    "print()\n"
   ]
  },
  {
   "cell_type": "code",
   "execution_count": 96,
   "metadata": {},
   "outputs": [
    {
     "name": "stdout",
     "output_type": "stream",
     "text": [
      "        Name  Age  Gender\n",
      "0     Gaurav  0.0     0.0\n",
      "1  Abhishek1  1.0     0.0\n",
      "2    Krishna  2.0     0.0\n",
      "3  Abhishek2  2.0     0.0\n",
      "4   Harshita  1.0     1.0\n",
      "5       Joey  2.0     1.0\n",
      "6     Shweta  3.0     1.0\n",
      "7       na-1  1.0     NaN\n",
      "8       na-2  NaN     0.0\n",
      "9        NaN  2.0     0.0\n"
     ]
    }
   ],
   "source": [
    "df1 = pd.DataFrame(\n",
    "    {\n",
    "        \"Name\":   [\"Gaurav\", \"Abhishek1\", \"Krishna\", \"Abhishek2\", \"Harshita\", \"Joey\", \"Shweta\", \"na-1\" , \"na-2\"  , np.nan],\n",
    "        \"Age\":    [ 0      , 1          , 2        , 2          , 1         , 2     , 3       , 1      ,  np.nan , 2     ],\n",
    "        \"Gender\": [ 0      , 0          , 0        , 0          , 1         , 1     , 1       , np.nan ,  0      , 0     ]\n",
    "    }\n",
    ")\n",
    "print(df1)"
   ]
  },
  {
   "cell_type": "code",
   "execution_count": 104,
   "metadata": {},
   "outputs": [
    {
     "name": "stdout",
     "output_type": "stream",
     "text": [
      "         Abc    A  Gender\n",
      "0     Gaurav  0.0     0.0\n",
      "1  Abhishek1  1.0     0.0\n",
      "2    Krishna  2.0     0.0\n",
      "3  Abhishek2  2.0     0.0\n",
      "4   Harshita  1.0     1.0\n",
      "5       Joey  2.0     1.0\n",
      "6     Shweta  3.0     1.0\n",
      "7       na-1  1.0     NaN\n",
      "8       na-2  NaN     0.0\n",
      "9        NaN  2.0     0.0\n",
      "\n",
      "None\n",
      "         Abc    A  Gender\n",
      "0     Gaurav  0.0     0.0\n",
      "1  Abhishek1  1.0     0.0\n",
      "2    Krishna  2.0     0.0\n",
      "3  Abhishek2  2.0     0.0\n",
      "4   Harshita  1.0     1.0\n",
      "5       Joey  2.0     1.0\n",
      "6     Shweta  3.0     1.0\n",
      "7       na-1  1.0     NaN\n",
      "8       na-2  NaN     0.0\n",
      "9        NaN  2.0     0.0\n"
     ]
    }
   ],
   "source": [
    "d = df1.rename(columns = {'Name':'Abc'}) #renaming the columns\n",
    "print(d)\n",
    "print()\n",
    "d1 = d.rename(columns = {'Age':'A'}, inplace=True)\n",
    "print(d1)\n",
    "print(d)"
   ]
  },
  {
   "cell_type": "code",
   "execution_count": 107,
   "metadata": {},
   "outputs": [
    {
     "name": "stdout",
     "output_type": "stream",
     "text": [
      "           N    A    G\n",
      "0     Gaurav  0.0  0.0\n",
      "1  Abhishek1  1.0  0.0\n",
      "2    Krishna  2.0  0.0\n",
      "3  Abhishek2  2.0  0.0\n",
      "4   Harshita  1.0  1.0\n",
      "5       Joey  2.0  1.0\n",
      "6     Shweta  3.0  1.0\n",
      "7       na-1  1.0  NaN\n",
      "8       na-2  NaN  0.0\n",
      "9        NaN  2.0  0.0\n",
      "\n",
      "           n    a    g\n",
      "0     Gaurav  0.0  0.0\n",
      "1  Abhishek1  1.0  0.0\n",
      "2    Krishna  2.0  0.0\n",
      "3  Abhishek2  2.0  0.0\n",
      "4   Harshita  1.0  1.0\n",
      "5       Joey  2.0  1.0\n",
      "6     Shweta  3.0  1.0\n",
      "7       na-1  1.0  NaN\n",
      "8       na-2  NaN  0.0\n",
      "9        NaN  2.0  0.0\n"
     ]
    }
   ],
   "source": [
    "d.columns = ['N',\"A\",\"G\"] #Another way of renaming the column names\n",
    "print(d)\n",
    "print()\n",
    "print(d.rename(lambda x: x.lower(), axis=1)) #the column names are converted to lower case"
   ]
  },
  {
   "cell_type": "code",
   "execution_count": 109,
   "metadata": {},
   "outputs": [
    {
     "name": "stdout",
     "output_type": "stream",
     "text": [
      "        Name  Age  Gender\n",
      "0     Gaurav  0.0     0.0\n",
      "1  Abhishek1  1.0     0.0\n",
      "2    Krishna  2.0     0.0\n",
      "3  Abhishek2  2.0     0.0\n",
      "4   Harshita  1.0     1.0\n",
      "5       Joey  2.0     1.0\n",
      "6     Shweta  3.0     1.0\n",
      "7       na-1  1.0     NaN\n",
      "8       na-2  NaN     0.0\n",
      "9        NaN  2.0     0.0\n",
      "\n",
      "<class 'pandas.core.series.Series'>\n",
      "\n",
      "[ 0.  1.  2.  3. nan]\n",
      "\n",
      "2.0    4\n",
      "1.0    3\n",
      "3.0    1\n",
      "0.0    1\n",
      "Name: Age, dtype: int64\n"
     ]
    }
   ],
   "source": [
    "df1 = pd.DataFrame(\n",
    "    {\n",
    "        \"Name\":   [\"Gaurav\", \"Abhishek1\", \"Krishna\", \"Abhishek2\", \"Harshita\", \"Joey\", \"Shweta\", \"na-1\" , \"na-2\"  , np.nan],\n",
    "        \"Age\":    [ 0      , 1          , 2        , 2          , 1         , 2     , 3       , 1      ,  np.nan , 2     ],\n",
    "        \"Gender\": [ 0      , 0          , 0        , 0          , 1         , 1     , 1       , np.nan ,  0      , 0     ]\n",
    "    }\n",
    ")\n",
    "\n",
    "print(df1)\n",
    "print()\n",
    "print(type(df1.Name)) #type of name column\n",
    "print()\n",
    "print(df1.Age.unique())#how many uniques values are present in age column\n",
    "print()\n",
    "print(df1.Age.value_counts()) #how many times each value is repeated in the column age"
   ]
  },
  {
   "cell_type": "code",
   "execution_count": 122,
   "metadata": {},
   "outputs": [
    {
     "name": "stdout",
     "output_type": "stream",
     "text": [
      "        Name  Age  Gender\n",
      "0     Gaurav  0.0     0.0\n",
      "1  Abhishek1  1.0     0.0\n",
      "2    Krishna  2.0     0.0\n",
      "3  Abhishek2  2.0     0.0\n",
      "4   Harshita  1.0     1.0\n",
      "5       Joey  2.0     1.0\n",
      "6     Shweta  3.0     1.0\n",
      "7       na-1  1.0     NaN\n",
      "8       na-2  NaN     0.0\n",
      "9        NaN  2.0     0.0\n",
      "\n",
      "             Name       Age    Gender\n",
      "count           9  9.000000  9.000000\n",
      "unique          9       NaN       NaN\n",
      "top     Abhishek2       NaN       NaN\n",
      "freq            1       NaN       NaN\n",
      "mean          NaN  1.555556  0.333333\n",
      "std           NaN  0.881917  0.500000\n",
      "min           NaN  0.000000  0.000000\n",
      "25%           NaN  1.000000  0.000000\n",
      "50%           NaN  2.000000  0.000000\n",
      "75%           NaN  2.000000  1.000000\n",
      "max           NaN  3.000000  1.000000\n",
      "\n",
      "        Name  Age  Gender\n",
      "0     Gaurav  0.0     0.0\n",
      "1  Abhishek1  1.0     0.0\n",
      "2    Krishna  2.0     0.0\n",
      "3  Abhishek2  2.0     0.0\n",
      "4   Harshita  1.0     1.0\n",
      "\n",
      "        Name  Age  Gender\n",
      "0     Gaurav  0.0     0.0\n",
      "1  Abhishek1  1.0     0.0\n",
      "2    Krishna  2.0     0.0\n",
      "\n",
      "     Name  Age  Gender\n",
      "5    Joey  2.0     1.0\n",
      "6  Shweta  3.0     1.0\n",
      "7    na-1  1.0     NaN\n",
      "8    na-2  NaN     0.0\n",
      "9     NaN  2.0     0.0\n"
     ]
    }
   ],
   "source": [
    "#Describe\n",
    "\n",
    "# Syntax:DataFrame.describe(percentiles=None, include=None, exclude=None)\n",
    "\n",
    "print(df1)\n",
    "print()\n",
    "\n",
    "print(df1.describe(include='all'))\n",
    "\n",
    "print()\n",
    "print(df1.head())\n",
    "\n",
    "print()\n",
    "print(df1.head(3))\n",
    "\n",
    "print()\n",
    "print(df1.tail())"
   ]
  },
  {
   "cell_type": "code",
   "execution_count": null,
   "metadata": {},
   "outputs": [],
   "source": [
    "\n",
    "\n",
    "\n",
    "\n",
    "\n"
   ]
  }
 ],
 "metadata": {
  "kernelspec": {
   "display_name": "Python 3",
   "language": "python",
   "name": "python3"
  },
  "language_info": {
   "codemirror_mode": {
    "name": "ipython",
    "version": 3
   },
   "file_extension": ".py",
   "mimetype": "text/x-python",
   "name": "python",
   "nbconvert_exporter": "python",
   "pygments_lexer": "ipython3",
   "version": "3.7.6"
  }
 },
 "nbformat": 4,
 "nbformat_minor": 4
}
